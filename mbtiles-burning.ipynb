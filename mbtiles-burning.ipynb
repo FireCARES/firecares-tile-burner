{
 "cells": [
  {
   "cell_type": "markdown",
   "metadata": {},
   "source": [
    "# Burn a `mbtiles` file"
   ]
  },
  {
   "cell_type": "markdown",
   "metadata": {},
   "source": [
    "#### Setup\n",
    "\n",
    "_Assumes the following:_\n",
    "\n",
    "- You have the AWS cli installed and configured with a firecares connection as the \"default\" profile that has:\n",
    "    - The ability to invalidate CloudFront distributions\n",
    "    - The ability to upload data to s3://firecares-data-backup\n",
    "- You have GDAL/ogr2ogr installed\n",
    "- You have tippecanoe installed\n",
    "- You have the tessera-ansible project checked-out with the necessary ansible vault keys\n",
    "- You have bash >= 4.0 installed\n",
    "- You have plenty of space in your /tmp folder\n",
    "\n",
    "**These cells will do the following:**\n",
    "\n",
    "- Project the input file to EPSG:4326\n",
    "- Upload the results to S3 under the county/state/location as provided\n",
    "- Pull the remote geojson files from S3 that are used to create the .mbtiles output\n",
    "- Generate mbtiles using tippecanoe from the collected geojson files\n",
    "- Upload the output mbtiles to S3\n",
    "- Re-download mbtiles and restart tileservers\n",
    "- Invalidate the CloudFront tiles CDN => (a|b|c|d).firecares.org"
   ]
  },
  {
   "cell_type": "code",
   "execution_count": null,
   "metadata": {},
   "outputs": [],
   "source": [
    "# Location of the file to process\n",
    "fname = '~/Downloads/kershaw_hydrants.shp'\n",
    "\n",
    "# One of `fire_hydrants`, `fire_stations`, `fire_districts`, `building_footprints`\n",
    "feature_type = 'fire_hydrants'\n",
    "\n",
    "# Meta about incoming file\n",
    "info = dict(country='us', state='sc', location='kershaw_county', feature_type=feature_type)\n",
    "\n",
    "# Location of your tessera-ansible project\n",
    "playbook_dir = '~/projects/firecares/tessera-ansible'"
   ]
  },
  {
   "cell_type": "markdown",
   "metadata": {},
   "source": [
    "---"
   ]
  },
  {
   "cell_type": "code",
   "execution_count": null,
   "metadata": {},
   "outputs": [],
   "source": [
    "import os\n",
    "file_root = os.path.splitext(fname)[0]\n",
    "mbtiles_mapping = {\n",
    "    'fire_districts': 'districts.mbtiles',\n",
    "    'fire_hydrants': 'hydrants.mbtiles',\n",
    "    'fire_stations': 'stations.mbtiles'\n",
    "}\n",
    "mbtiles_name = mbtiles_mapping[feature_type]\n",
    "layer_name = mbtiles_name.split('.')[0]\n",
    "dest = '{country}/{state}/{location}/{country}-{state}-{location}-{feature_type}.geojson'.format(**info)\n",
    "outf = file_root + '.geojson'\n",
    "s3dest = 's3://firecares-data-backup/' + dest"
   ]
  },
  {
   "cell_type": "markdown",
   "metadata": {},
   "source": [
    "#### Copy projected geojson to S3"
   ]
  },
  {
   "cell_type": "code",
   "execution_count": null,
   "metadata": {},
   "outputs": [],
   "source": [
    "!rm $outf\n",
    "!ogr2ogr -f \"Geojson\" $outf $fname -t_srs EPSG:4326\n",
    "!aws s3 cp $outf $s3dest"
   ]
  },
  {
   "cell_type": "markdown",
   "metadata": {},
   "source": [
    "#### Copy feature geojson from S3 to local and flatten"
   ]
  },
  {
   "cell_type": "code",
   "execution_count": null,
   "metadata": {
    "scrolled": false
   },
   "outputs": [],
   "source": [
    "%%bash -s \"$feature_type\"\n",
    "rm -Rf /tmp/tiles\n",
    "mkdir -p /tmp/tiles\n",
    "cd /tmp/tiles\n",
    "aws s3 cp s3://firecares-data-backup/ . --exclude=\"*\" --include \"*$1*.geojson\" --exclude=\"*network_analysis*\" --recursive\n",
    "# You need bash >= 4.0 for globstar support => `brew install bash && echo '/usr/local/bin/bash' >> /etc/shells && chsh -s /usr/local/bin/bash`\n",
    "shopt -s globstar\n",
    "cd /tmp/tiles/us\n",
    "cp */**/*.geojson ../"
   ]
  },
  {
   "cell_type": "code",
   "execution_count": null,
   "metadata": {},
   "outputs": [],
   "source": [
    "%%bash -s \"$mbtiles_name\" \"$layer_name\"\n",
    "cd /tmp/tiles\n",
    "echo tippecanoe -r 0 -z18 -Z14 --no-line-simplification --no-feature-limit --no-tile-size-limit --no-polygon-splitting -f -o $1 *.geojson\n",
    "tippecanoe -r 0 -z18 -Z14 --no-line-simplification --no-feature-limit --no-tile-size-limit --no-polygon-splitting -f -o $1 *.geojson"
   ]
  },
  {
   "cell_type": "markdown",
   "metadata": {},
   "source": [
    "#### Upload mbiles to s3"
   ]
  },
  {
   "cell_type": "code",
   "execution_count": null,
   "metadata": {},
   "outputs": [],
   "source": [
    "%%bash -s \"$mbtiles_name\"\n",
    "cd /tmp/tiles\n",
    "aws s3 cp $1 s3://firecares-tiles/ --acl=public-read"
   ]
  },
  {
   "cell_type": "markdown",
   "metadata": {},
   "source": [
    "#### Re-download mbtiles on tile servers and restart tileserver process"
   ]
  },
  {
   "cell_type": "code",
   "execution_count": null,
   "metadata": {},
   "outputs": [],
   "source": [
    "!cd $playbook_dir && ansible-playbook -i hosts firecares-tileservers-production.yml --tags \"mbtiles.reload\" -e \"reload_only=true\" --private-key=\"~/.ssh/firecares-tileserver.pem\"  "
   ]
  },
  {
   "cell_type": "markdown",
   "metadata": {},
   "source": [
    "#### Invalidate CDN"
   ]
  },
  {
   "cell_type": "code",
   "execution_count": null,
   "metadata": {},
   "outputs": [],
   "source": [
    "!aws cloudfront create-invalidation --distribution-id E3LIEGWQGOWXQG --paths '/*'"
   ]
  },
  {
   "cell_type": "markdown",
   "metadata": {},
   "source": [
    "#### Preview"
   ]
  },
  {
   "cell_type": "markdown",
   "metadata": {},
   "source": [
    "`tessera mbtiles://./hydrants.mbtiles`"
   ]
  }
 ],
 "metadata": {
  "kernelspec": {
   "display_name": "Python 2",
   "language": "python",
   "name": "python2"
  },
  "language_info": {
   "codemirror_mode": {
    "name": "ipython",
    "version": 2
   },
   "file_extension": ".py",
   "mimetype": "text/x-python",
   "name": "python",
   "nbconvert_exporter": "python",
   "pygments_lexer": "ipython2",
   "version": "2.7.13"
  }
 },
 "nbformat": 4,
 "nbformat_minor": 2
}
